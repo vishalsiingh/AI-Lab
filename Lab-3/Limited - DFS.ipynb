{
 "cells": [
  {
   "cell_type": "code",
   "execution_count": 4,
   "id": "a2226fba-b74f-4b66-9b87-8de919c38796",
   "metadata": {},
   "outputs": [
    {
     "name": "stdout",
     "output_type": "stream",
     "text": [
      "Enter the graph as key:value pairs, where value is a comma-separated list of children.\n",
      "For example: A:B,C or B:D,E (enter 'done' to finish):\n"
     ]
    },
    {
     "name": "stdin",
     "output_type": "stream",
     "text": [
      "Enter a node and its children:  A:B,C\n",
      "Enter a node and its children:  B:D,E\n",
      "Enter a node and its children:  C:F,G\n",
      "Enter a node and its children:  D:H,I\n",
      "Enter a node and its children:  E:J,K\n",
      "Enter a node and its children:  F:L,M\n",
      "Enter a node and its children:  G:N,O\n",
      "Enter a node and its children:  done\n"
     ]
    },
    {
     "name": "stdout",
     "output_type": "stream",
     "text": [
      "\n",
      "Graph entered: {'A': ['B', 'C'], 'B': ['D', 'E'], 'C': ['F', 'G'], 'D': ['H', 'I'], 'E': ['J', 'K'], 'F': ['L', 'M'], 'G': ['N', 'O']}\n"
     ]
    },
    {
     "name": "stdin",
     "output_type": "stream",
     "text": [
      "Enter the start node:  A\n",
      "Enter the goal node:  M\n",
      "Enter the maximum depth limit:  3\n"
     ]
    },
    {
     "name": "stdout",
     "output_type": "stream",
     "text": [
      "\n",
      "\n",
      "Current level --> 0\n",
      "Goal node testing for A\n",
      "Goal node testing failed\n",
      "\n",
      "Expanding the current node A\n",
      "\n",
      "Current level --> 1\n",
      "Goal node testing for B\n",
      "Goal node testing failed\n",
      "\n",
      "Expanding the current node B\n",
      "\n",
      "Current level --> 2\n",
      "Goal node testing for D\n",
      "Goal node testing failed\n",
      "\n",
      "Expanding the current node D\n",
      "\n",
      "Current level --> 3\n",
      "Goal node testing for H\n",
      "Goal node testing failed\n",
      "\n",
      "Current level --> 3\n",
      "Goal node testing for I\n",
      "Goal node testing failed\n",
      "\n",
      "Current level --> 2\n",
      "Goal node testing for E\n",
      "Goal node testing failed\n",
      "\n",
      "Expanding the current node E\n",
      "\n",
      "Current level --> 3\n",
      "Goal node testing for J\n",
      "Goal node testing failed\n",
      "\n",
      "Current level --> 3\n",
      "Goal node testing for K\n",
      "Goal node testing failed\n",
      "\n",
      "Current level --> 1\n",
      "Goal node testing for C\n",
      "Goal node testing failed\n",
      "\n",
      "Expanding the current node C\n",
      "\n",
      "Current level --> 2\n",
      "Goal node testing for F\n",
      "Goal node testing failed\n",
      "\n",
      "Expanding the current node F\n",
      "\n",
      "Current level --> 3\n",
      "Goal node testing for L\n",
      "Goal node testing failed\n",
      "\n",
      "Current level --> 3\n",
      "Goal node testing for M\n",
      "Goal test successful\n",
      "\n",
      "Path to goal node available\n",
      "Path: ['A', 'C', 'F', 'M']\n"
     ]
    }
   ],
   "source": [
    "def get_graph_input():\n",
    "    print(\"Enter the graph as key:value pairs, where value is a comma-separated list of children.\")\n",
    "    print(\"For example: A:B,C or B:D,E (enter 'done' to finish):\")\n",
    "    graph = {}\n",
    "    while True:\n",
    "        entry = input(\"Enter a node and its children: \")\n",
    "        if entry.lower() == 'done':\n",
    "            break\n",
    "        try:\n",
    "            key, value = entry.split(\":\")\n",
    "            key = key.strip()\n",
    "            children = value.split(\",\") if value.strip() else []\n",
    "            graph[key] = [child.strip() for child in children]\n",
    "        except ValueError:\n",
    "            print(\"Invalid input format. Please use the format key:value.\")\n",
    "    return graph\n",
    "\n",
    "def DLS(start, goal, path, level, maxD):\n",
    "    print('\\nCurrent level -->', level)\n",
    "    print('Goal node testing for', start)\n",
    "    path.append(start)\n",
    "    if start == goal:\n",
    "        print(\"Goal test successful\")\n",
    "        return path\n",
    "    print('Goal node testing failed')\n",
    "    if level == maxD:\n",
    "        return False\n",
    "    print('\\nExpanding the current node', start)\n",
    "    for child in graph.get(start, []):\n",
    "        if DLS(child, goal, path, level + 1, maxD):\n",
    "            return path\n",
    "        path.pop()\n",
    "    return False\n",
    "\n",
    "# Get the graph from the user\n",
    "graph = get_graph_input()\n",
    "print(\"\\nGraph entered:\", graph)\n",
    "\n",
    "# Input for DLS\n",
    "start = input('Enter the start node: ').strip()\n",
    "goal = input('Enter the goal node: ').strip()\n",
    "maxD = int(input(\"Enter the maximum depth limit: \"))\n",
    "print()\n",
    "\n",
    "# Running the algorithm\n",
    "path = []\n",
    "res = DLS(start, goal, path, 0, maxD)\n",
    "\n",
    "if res:\n",
    "    print(\"\\nPath to goal node available\")\n",
    "    print(\"Path:\", path)\n",
    "else:\n",
    "    print(\"\\nNo path available for the goal node within the given depth limit\")\n"
   ]
  },
  {
   "cell_type": "code",
   "execution_count": null,
   "id": "6facadde-ef0e-4c13-a03b-49b05abd954a",
   "metadata": {},
   "outputs": [],
   "source": []
  }
 ],
 "metadata": {
  "kernelspec": {
   "display_name": "Python 3 (ipykernel)",
   "language": "python",
   "name": "python3"
  },
  "language_info": {
   "codemirror_mode": {
    "name": "ipython",
    "version": 3
   },
   "file_extension": ".py",
   "mimetype": "text/x-python",
   "name": "python",
   "nbconvert_exporter": "python",
   "pygments_lexer": "ipython3",
   "version": "3.13.1"
  }
 },
 "nbformat": 4,
 "nbformat_minor": 5
}

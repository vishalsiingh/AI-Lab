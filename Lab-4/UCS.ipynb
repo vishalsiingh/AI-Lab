{
 "cells": [
  {
   "cell_type": "code",
   "execution_count": 1,
   "id": "6dab5d04-5355-4fed-b0e3-4815d4c7526f",
   "metadata": {},
   "outputs": [
    {
     "name": "stdout",
     "output_type": "stream",
     "text": [
      "UCS: Cost = 4, Path = ['A', 'B', 'C', 'D']\n"
     ]
    }
   ],
   "source": [
    "import heapq\n",
    "\n",
    "class Graph:\n",
    "    def __init__(self):\n",
    "        self.graph = {}\n",
    "\n",
    "    def add_edge(self, u, v, weight):\n",
    "        if u not in self.graph:\n",
    "            self.graph[u] = []\n",
    "        if v not in self.graph:\n",
    "            self.graph[v] = []\n",
    "        self.graph[u].append((v, weight))\n",
    "        self.graph[v].append((u, weight))  # Assuming undirected graph\n",
    "\n",
    "    def ucs(self, start, goal):\n",
    "        # Priority queue to store nodes and their cumulative cost\n",
    "        pq = [(0, start, [])]  # (cost, node, path)\n",
    "        visited = set()\n",
    "\n",
    "        while pq:\n",
    "            # Pop the node with the lowest cost\n",
    "            (cost, node, path) = heapq.heappop(pq)\n",
    "\n",
    "            # If we have reached the goal, return the cost and the path\n",
    "            if node == goal:\n",
    "                return (cost, path + [node])\n",
    "\n",
    "            if node not in visited:\n",
    "                visited.add(node)\n",
    "\n",
    "                # Explore neighbors\n",
    "                for neighbor, weight in self.graph[node]:\n",
    "                    if neighbor not in visited:\n",
    "                        # Add neighbors to the priority queue with updated cost\n",
    "                        heapq.heappush(pq, (cost + weight, neighbor, path + [node]))\n",
    "\n",
    "        return None  # Return None if no path exists\n",
    "\n",
    "# Example usage:\n",
    "graph = Graph()\n",
    "graph.add_edge('A', 'B', 1)\n",
    "graph.add_edge('A', 'C', 4)\n",
    "graph.add_edge('B', 'C', 2)\n",
    "graph.add_edge('B', 'D', 5)\n",
    "graph.add_edge('C', 'D', 1)\n",
    "\n",
    "# Perform UCS\n",
    "start_node = 'A'\n",
    "goal_node = 'D'\n",
    "cost, path = graph.ucs(start_node, goal_node)\n",
    "print(f\"UCS: Cost = {cost}, Path = {path}\")\n"
   ]
  },
  {
   "cell_type": "code",
   "execution_count": null,
   "id": "fd1a39a3-767b-4afb-b4a4-027cb5481bc0",
   "metadata": {},
   "outputs": [],
   "source": []
  }
 ],
 "metadata": {
  "kernelspec": {
   "display_name": "Python 3 (ipykernel)",
   "language": "python",
   "name": "python3"
  },
  "language_info": {
   "codemirror_mode": {
    "name": "ipython",
    "version": 3
   },
   "file_extension": ".py",
   "mimetype": "text/x-python",
   "name": "python",
   "nbconvert_exporter": "python",
   "pygments_lexer": "ipython3",
   "version": "3.13.1"
  }
 },
 "nbformat": 4,
 "nbformat_minor": 5
}
